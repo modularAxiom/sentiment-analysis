{
 "cells": [
  {
   "metadata": {},
   "cell_type": "markdown",
   "source": "Data Loading and Exploratory Data Analysis",
   "id": "44effdb81a12bb6b"
  },
  {
   "cell_type": "code",
   "id": "initial_id",
   "metadata": {
    "collapsed": true,
    "ExecuteTime": {
     "end_time": "2025-03-14T21:39:45.685966Z",
     "start_time": "2025-03-14T21:39:42.028004Z"
    }
   },
   "source": [
    "# Import necessary libraries\n",
    "import pandas as pd\n",
    "import numpy as np\n",
    "import matplotlib.pyplot as plt\n",
    "import seaborn as sns\n",
    "\n",
    "# Configure visualization settings\n",
    "%matplotlib inline\n",
    "sns.set_theme(style=\"whitegrid\")\n",
    "\n",
    "# Load the Amazon Product Reviews dataset\n",
    "data = pd.read_csv(\"../data/raw/Reviews.csv\")\n",
    "\n",
    "# Display the first five rows\n",
    "data.head()"
   ],
   "outputs": [
    {
     "data": {
      "text/plain": [
       "   Id   ProductId          UserId                      ProfileName  \\\n",
       "0   1  B001E4KFG0  A3SGXH7AUHU8GW                       delmartian   \n",
       "1   2  B00813GRG4  A1D87F6ZCVE5NK                           dll pa   \n",
       "2   3  B000LQOCH0   ABXLMWJIXXAIN  Natalia Corres \"Natalia Corres\"   \n",
       "3   4  B000UA0QIQ  A395BORC6FGVXV                             Karl   \n",
       "4   5  B006K2ZZ7K  A1UQRSCLF8GW1T    Michael D. Bigham \"M. Wassir\"   \n",
       "\n",
       "   HelpfulnessNumerator  HelpfulnessDenominator  Score        Time  \\\n",
       "0                     1                       1      5  1303862400   \n",
       "1                     0                       0      1  1346976000   \n",
       "2                     1                       1      4  1219017600   \n",
       "3                     3                       3      2  1307923200   \n",
       "4                     0                       0      5  1350777600   \n",
       "\n",
       "                 Summary                                               Text  \n",
       "0  Good Quality Dog Food  I have bought several of the Vitality canned d...  \n",
       "1      Not as Advertised  Product arrived labeled as Jumbo Salted Peanut...  \n",
       "2  \"Delight\" says it all  This is a confection that has been around a fe...  \n",
       "3         Cough Medicine  If you are looking for the secret ingredient i...  \n",
       "4            Great taffy  Great taffy at a great price.  There was a wid...  "
      ],
      "text/html": [
       "<div>\n",
       "<style scoped>\n",
       "    .dataframe tbody tr th:only-of-type {\n",
       "        vertical-align: middle;\n",
       "    }\n",
       "\n",
       "    .dataframe tbody tr th {\n",
       "        vertical-align: top;\n",
       "    }\n",
       "\n",
       "    .dataframe thead th {\n",
       "        text-align: right;\n",
       "    }\n",
       "</style>\n",
       "<table border=\"1\" class=\"dataframe\">\n",
       "  <thead>\n",
       "    <tr style=\"text-align: right;\">\n",
       "      <th></th>\n",
       "      <th>Id</th>\n",
       "      <th>ProductId</th>\n",
       "      <th>UserId</th>\n",
       "      <th>ProfileName</th>\n",
       "      <th>HelpfulnessNumerator</th>\n",
       "      <th>HelpfulnessDenominator</th>\n",
       "      <th>Score</th>\n",
       "      <th>Time</th>\n",
       "      <th>Summary</th>\n",
       "      <th>Text</th>\n",
       "    </tr>\n",
       "  </thead>\n",
       "  <tbody>\n",
       "    <tr>\n",
       "      <th>0</th>\n",
       "      <td>1</td>\n",
       "      <td>B001E4KFG0</td>\n",
       "      <td>A3SGXH7AUHU8GW</td>\n",
       "      <td>delmartian</td>\n",
       "      <td>1</td>\n",
       "      <td>1</td>\n",
       "      <td>5</td>\n",
       "      <td>1303862400</td>\n",
       "      <td>Good Quality Dog Food</td>\n",
       "      <td>I have bought several of the Vitality canned d...</td>\n",
       "    </tr>\n",
       "    <tr>\n",
       "      <th>1</th>\n",
       "      <td>2</td>\n",
       "      <td>B00813GRG4</td>\n",
       "      <td>A1D87F6ZCVE5NK</td>\n",
       "      <td>dll pa</td>\n",
       "      <td>0</td>\n",
       "      <td>0</td>\n",
       "      <td>1</td>\n",
       "      <td>1346976000</td>\n",
       "      <td>Not as Advertised</td>\n",
       "      <td>Product arrived labeled as Jumbo Salted Peanut...</td>\n",
       "    </tr>\n",
       "    <tr>\n",
       "      <th>2</th>\n",
       "      <td>3</td>\n",
       "      <td>B000LQOCH0</td>\n",
       "      <td>ABXLMWJIXXAIN</td>\n",
       "      <td>Natalia Corres \"Natalia Corres\"</td>\n",
       "      <td>1</td>\n",
       "      <td>1</td>\n",
       "      <td>4</td>\n",
       "      <td>1219017600</td>\n",
       "      <td>\"Delight\" says it all</td>\n",
       "      <td>This is a confection that has been around a fe...</td>\n",
       "    </tr>\n",
       "    <tr>\n",
       "      <th>3</th>\n",
       "      <td>4</td>\n",
       "      <td>B000UA0QIQ</td>\n",
       "      <td>A395BORC6FGVXV</td>\n",
       "      <td>Karl</td>\n",
       "      <td>3</td>\n",
       "      <td>3</td>\n",
       "      <td>2</td>\n",
       "      <td>1307923200</td>\n",
       "      <td>Cough Medicine</td>\n",
       "      <td>If you are looking for the secret ingredient i...</td>\n",
       "    </tr>\n",
       "    <tr>\n",
       "      <th>4</th>\n",
       "      <td>5</td>\n",
       "      <td>B006K2ZZ7K</td>\n",
       "      <td>A1UQRSCLF8GW1T</td>\n",
       "      <td>Michael D. Bigham \"M. Wassir\"</td>\n",
       "      <td>0</td>\n",
       "      <td>0</td>\n",
       "      <td>5</td>\n",
       "      <td>1350777600</td>\n",
       "      <td>Great taffy</td>\n",
       "      <td>Great taffy at a great price.  There was a wid...</td>\n",
       "    </tr>\n",
       "  </tbody>\n",
       "</table>\n",
       "</div>"
      ]
     },
     "execution_count": 14,
     "metadata": {},
     "output_type": "execute_result"
    }
   ],
   "execution_count": 14
  },
  {
   "metadata": {},
   "cell_type": "markdown",
   "source": "Inspect Dataset Structure",
   "id": "7809408fe2640aa7"
  },
  {
   "metadata": {
    "ExecuteTime": {
     "end_time": "2025-03-14T21:39:50.533536Z",
     "start_time": "2025-03-14T21:39:50.383397Z"
    }
   },
   "cell_type": "code",
   "source": [
    "# Get dataset dimensions\n",
    "print(f\"Dataset contains {data.shape[0]} rows and {data.shape[1]} columns.\\n\")\n",
    "\n",
    "# Get data types and non-null counts\n",
    "data.info()"
   ],
   "id": "77ceb854ca55ad19",
   "outputs": [
    {
     "name": "stdout",
     "output_type": "stream",
     "text": [
      "Dataset contains 568454 rows and 10 columns.\n",
      "\n",
      "<class 'pandas.core.frame.DataFrame'>\n",
      "RangeIndex: 568454 entries, 0 to 568453\n",
      "Data columns (total 10 columns):\n",
      " #   Column                  Non-Null Count   Dtype \n",
      "---  ------                  --------------   ----- \n",
      " 0   Id                      568454 non-null  int64 \n",
      " 1   ProductId               568454 non-null  object\n",
      " 2   UserId                  568454 non-null  object\n",
      " 3   ProfileName             568428 non-null  object\n",
      " 4   HelpfulnessNumerator    568454 non-null  int64 \n",
      " 5   HelpfulnessDenominator  568454 non-null  int64 \n",
      " 6   Score                   568454 non-null  int64 \n",
      " 7   Time                    568454 non-null  int64 \n",
      " 8   Summary                 568427 non-null  object\n",
      " 9   Text                    568454 non-null  object\n",
      "dtypes: int64(5), object(5)\n",
      "memory usage: 43.4+ MB\n"
     ]
    }
   ],
   "execution_count": 15
  },
  {
   "metadata": {},
   "cell_type": "markdown",
   "source": "Analyze Missing Values",
   "id": "65f42ce00295a785"
  },
  {
   "metadata": {
    "ExecuteTime": {
     "end_time": "2025-03-14T21:40:01.763558Z",
     "start_time": "2025-03-14T21:40:01.620181Z"
    }
   },
   "cell_type": "code",
   "source": [
    "# Check for number of missing values in each feature\n",
    "missing_values = data.isnull().sum()\n",
    "print(\"Missing Values Per Feature:\")\n",
    "print(missing_values)"
   ],
   "id": "4048dcc5a7c4e511",
   "outputs": [
    {
     "name": "stdout",
     "output_type": "stream",
     "text": [
      "Missing Values Per Feature:\n",
      "Id                         0\n",
      "ProductId                  0\n",
      "UserId                     0\n",
      "ProfileName               26\n",
      "HelpfulnessNumerator       0\n",
      "HelpfulnessDenominator     0\n",
      "Score                      0\n",
      "Time                       0\n",
      "Summary                   27\n",
      "Text                       0\n",
      "dtype: int64\n"
     ]
    }
   ],
   "execution_count": 16
  },
  {
   "metadata": {},
   "cell_type": "markdown",
   "source": "Explore Target Variable Distribution",
   "id": "1aab81fa208fa840"
  },
  {
   "metadata": {
    "ExecuteTime": {
     "end_time": "2025-03-14T21:40:11.563613Z",
     "start_time": "2025-03-14T21:40:10.306733Z"
    }
   },
   "cell_type": "code",
   "source": [
    "# Check class distribution for the target variable 'Score'\n",
    "score_counts = data['Score'].value_counts().sort_index()\n",
    "print(\"Score Distribution:\")\n",
    "print(score_counts)\n",
    "\n",
    "# Visualization of Score Distribution\n",
    "plt.figure(figsize=(8,6))\n",
    "sns.countplot(x='Score', data=data, hue='Score', palette='viridis', legend=False)\n",
    "plt.title('Distribution of Review Scores')\n",
    "plt.xlabel('Score')\n",
    "plt.ylabel('Number of Reviews')\n",
    "plt.show()"
   ],
   "id": "a10e04d638f5d2af",
   "outputs": [
    {
     "name": "stdout",
     "output_type": "stream",
     "text": [
      "Score Distribution:\n",
      "Score\n",
      "1     52268\n",
      "2     29769\n",
      "3     42640\n",
      "4     80655\n",
      "5    363122\n",
      "Name: count, dtype: int64\n"
     ]
    },
    {
     "data": {
      "text/plain": [
       "<Figure size 800x600 with 1 Axes>"
      ],
      "image/png": "[encoded data removed]"
     },
     "metadata": {},
     "output_type": "display_data"
    }
   ],
   "execution_count": 17
  },
  {
   "metadata": {},
   "cell_type": "markdown",
   "source": "Data Preprocessing - Handling Missing Values and Dropping Unnecessary Features",
   "id": "160efc7894eaf1d2"
  },
  {
   "metadata": {
    "ExecuteTime": {
     "end_time": "2025-03-14T21:40:22.617570Z",
     "start_time": "2025-03-14T21:40:22.565157Z"
    }
   },
   "cell_type": "code",
   "source": [
    "# Drop features unnecessary for sentiment analysis\n",
    "data.drop(columns=['Id', 'ProductId', 'UserId', 'ProfileName', 'HelpfulnessNumerator', 'HelpfulnessDenominator', 'Time'], inplace=True)\n",
    "# Verify remaining columns\n",
    "data.head()"
   ],
   "id": "738be3e60096339f",
   "outputs": [
    {
     "data": {
      "text/plain": [
       "   Score                Summary  \\\n",
       "0      5  Good Quality Dog Food   \n",
       "1      1      Not as Advertised   \n",
       "2      4  \"Delight\" says it all   \n",
       "3      2         Cough Medicine   \n",
       "4      5            Great taffy   \n",
       "\n",
       "                                                Text  \n",
       "0  I have bought several of the Vitality canned d...  \n",
       "1  Product arrived labeled as Jumbo Salted Peanut...  \n",
       "2  This is a confection that has been around a fe...  \n",
       "3  If you are looking for the secret ingredient i...  \n",
       "4  Great taffy at a great price.  There was a wid...  "
      ],
      "text/html": [
       "<div>\n",
       "<style scoped>\n",
       "    .dataframe tbody tr th:only-of-type {\n",
       "        vertical-align: middle;\n",
       "    }\n",
       "\n",
       "    .dataframe tbody tr th {\n",
       "        vertical-align: top;\n",
       "    }\n",
       "\n",
       "    .dataframe thead th {\n",
       "        text-align: right;\n",
       "    }\n",
       "</style>\n",
       "<table border=\"1\" class=\"dataframe\">\n",
       "  <thead>\n",
       "    <tr style=\"text-align: right;\">\n",
       "      <th></th>\n",
       "      <th>Score</th>\n",
       "      <th>Summary</th>\n",
       "      <th>Text</th>\n",
       "    </tr>\n",
       "  </thead>\n",
       "  <tbody>\n",
       "    <tr>\n",
       "      <th>0</th>\n",
       "      <td>5</td>\n",
       "      <td>Good Quality Dog Food</td>\n",
       "      <td>I have bought several of the Vitality canned d...</td>\n",
       "    </tr>\n",
       "    <tr>\n",
       "      <th>1</th>\n",
       "      <td>1</td>\n",
       "      <td>Not as Advertised</td>\n",
       "      <td>Product arrived labeled as Jumbo Salted Peanut...</td>\n",
       "    </tr>\n",
       "    <tr>\n",
       "      <th>2</th>\n",
       "      <td>4</td>\n",
       "      <td>\"Delight\" says it all</td>\n",
       "      <td>This is a confection that has been around a fe...</td>\n",
       "    </tr>\n",
       "    <tr>\n",
       "      <th>3</th>\n",
       "      <td>2</td>\n",
       "      <td>Cough Medicine</td>\n",
       "      <td>If you are looking for the secret ingredient i...</td>\n",
       "    </tr>\n",
       "    <tr>\n",
       "      <th>4</th>\n",
       "      <td>5</td>\n",
       "      <td>Great taffy</td>\n",
       "      <td>Great taffy at a great price.  There was a wid...</td>\n",
       "    </tr>\n",
       "  </tbody>\n",
       "</table>\n",
       "</div>"
      ]
     },
     "execution_count": 18,
     "metadata": {},
     "output_type": "execute_result"
    }
   ],
   "execution_count": 18
  },
  {
   "metadata": {},
   "cell_type": "markdown",
   "source": "Handling Missing Values In The 'Summary' Feature",
   "id": "53975e9a568906a7"
  },
  {
   "metadata": {
    "ExecuteTime": {
     "end_time": "2025-03-14T21:40:36.856591Z",
     "start_time": "2025-03-14T21:40:36.701281Z"
    }
   },
   "cell_type": "code",
   "source": [
    "# Fill missing 'Summary' values with an empty string\n",
    "data.fillna({'Summary': ''}, inplace=True)\n",
    "\n",
    "missing_values = data.isnull().sum()\n",
    "print(\"Missing Values Per Feature:\")\n",
    "print(missing_values)"
   ],
   "id": "6ccf7912cd180d72",
   "outputs": [
    {
     "name": "stdout",
     "output_type": "stream",
     "text": [
      "Missing Values Per Feature:\n",
      "Score      0\n",
      "Summary    0\n",
      "Text       0\n",
      "dtype: int64\n"
     ]
    }
   ],
   "execution_count": 19
  },
  {
   "metadata": {},
   "cell_type": "markdown",
   "source": "Isolate Features Important For Training",
   "id": "9c0783ff3569c864"
  },
  {
   "metadata": {
    "ExecuteTime": {
     "end_time": "2025-03-14T21:40:42.660439Z",
     "start_time": "2025-03-14T21:40:42.171070Z"
    }
   },
   "cell_type": "code",
   "source": [
    "# Isolate Copies of 'Summary' and 'Text' features\n",
    "data['Summary_Text'] = data['Summary']\n",
    "data['Review_Text'] = data['Text']\n",
    "\n",
    "# Remove leading/trailing whitespace\n",
    "data['Summary_Text'] = data['Summary_Text'].str.strip()\n",
    "data['Review_Text'] = data['Review_Text'].str.strip()\n",
    "\n",
    "# Verify the combination\n",
    "data.info()"
   ],
   "id": "3f9e5841e023d69c",
   "outputs": [
    {
     "name": "stdout",
     "output_type": "stream",
     "text": [
      "<class 'pandas.core.frame.DataFrame'>\n",
      "RangeIndex: 568454 entries, 0 to 568453\n",
      "Data columns (total 5 columns):\n",
      " #   Column        Non-Null Count   Dtype \n",
      "---  ------        --------------   ----- \n",
      " 0   Score         568454 non-null  int64 \n",
      " 1   Summary       568454 non-null  object\n",
      " 2   Text          568454 non-null  object\n",
      " 3   Summary_Text  568454 non-null  object\n",
      " 4   Review_Text   568454 non-null  object\n",
      "dtypes: int64(1), object(4)\n",
      "memory usage: 21.7+ MB\n"
     ]
    }
   ],
   "execution_count": 20
  },
  {
   "metadata": {
    "ExecuteTime": {
     "end_time": "2025-03-14T21:40:51.010715Z",
     "start_time": "2025-03-14T21:40:50.988313Z"
    }
   },
   "cell_type": "code",
   "source": [
    "# Check copies of data\n",
    "data.head()"
   ],
   "id": "cd128638f43a6b22",
   "outputs": [
    {
     "data": {
      "text/plain": [
       "   Score                Summary  \\\n",
       "0      5  Good Quality Dog Food   \n",
       "1      1      Not as Advertised   \n",
       "2      4  \"Delight\" says it all   \n",
       "3      2         Cough Medicine   \n",
       "4      5            Great taffy   \n",
       "\n",
       "                                                Text           Summary_Text  \\\n",
       "0  I have bought several of the Vitality canned d...  Good Quality Dog Food   \n",
       "1  Product arrived labeled as Jumbo Salted Peanut...      Not as Advertised   \n",
       "2  This is a confection that has been around a fe...  \"Delight\" says it all   \n",
       "3  If you are looking for the secret ingredient i...         Cough Medicine   \n",
       "4  Great taffy at a great price.  There was a wid...            Great taffy   \n",
       "\n",
       "                                         Review_Text  \n",
       "0  I have bought several of the Vitality canned d...  \n",
       "1  Product arrived labeled as Jumbo Salted Peanut...  \n",
       "2  This is a confection that has been around a fe...  \n",
       "3  If you are looking for the secret ingredient i...  \n",
       "4  Great taffy at a great price.  There was a wid...  "
      ],
      "text/html": [
       "<div>\n",
       "<style scoped>\n",
       "    .dataframe tbody tr th:only-of-type {\n",
       "        vertical-align: middle;\n",
       "    }\n",
       "\n",
       "    .dataframe tbody tr th {\n",
       "        vertical-align: top;\n",
       "    }\n",
       "\n",
       "    .dataframe thead th {\n",
       "        text-align: right;\n",
       "    }\n",
       "</style>\n",
       "<table border=\"1\" class=\"dataframe\">\n",
       "  <thead>\n",
       "    <tr style=\"text-align: right;\">\n",
       "      <th></th>\n",
       "      <th>Score</th>\n",
       "      <th>Summary</th>\n",
       "      <th>Text</th>\n",
       "      <th>Summary_Text</th>\n",
       "      <th>Review_Text</th>\n",
       "    </tr>\n",
       "  </thead>\n",
       "  <tbody>\n",
       "    <tr>\n",
       "      <th>0</th>\n",
       "      <td>5</td>\n",
       "      <td>Good Quality Dog Food</td>\n",
       "      <td>I have bought several of the Vitality canned d...</td>\n",
       "      <td>Good Quality Dog Food</td>\n",
       "      <td>I have bought several of the Vitality canned d...</td>\n",
       "    </tr>\n",
       "    <tr>\n",
       "      <th>1</th>\n",
       "      <td>1</td>\n",
       "      <td>Not as Advertised</td>\n",
       "      <td>Product arrived labeled as Jumbo Salted Peanut...</td>\n",
       "      <td>Not as Advertised</td>\n",
       "      <td>Product arrived labeled as Jumbo Salted Peanut...</td>\n",
       "    </tr>\n",
       "    <tr>\n",
       "      <th>2</th>\n",
       "      <td>4</td>\n",
       "      <td>\"Delight\" says it all</td>\n",
       "      <td>This is a confection that has been around a fe...</td>\n",
       "      <td>\"Delight\" says it all</td>\n",
       "      <td>This is a confection that has been around a fe...</td>\n",
       "    </tr>\n",
       "    <tr>\n",
       "      <th>3</th>\n",
       "      <td>2</td>\n",
       "      <td>Cough Medicine</td>\n",
       "      <td>If you are looking for the secret ingredient i...</td>\n",
       "      <td>Cough Medicine</td>\n",
       "      <td>If you are looking for the secret ingredient i...</td>\n",
       "    </tr>\n",
       "    <tr>\n",
       "      <th>4</th>\n",
       "      <td>5</td>\n",
       "      <td>Great taffy</td>\n",
       "      <td>Great taffy at a great price.  There was a wid...</td>\n",
       "      <td>Great taffy</td>\n",
       "      <td>Great taffy at a great price.  There was a wid...</td>\n",
       "    </tr>\n",
       "  </tbody>\n",
       "</table>\n",
       "</div>"
      ]
     },
     "execution_count": 21,
     "metadata": {},
     "output_type": "execute_result"
    }
   ],
   "execution_count": 21
  },
  {
   "metadata": {},
   "cell_type": "markdown",
   "source": "Transform Target Variable 'Score' into Categorical 'Sentiment'",
   "id": "b14493234b605b01"
  },
  {
   "metadata": {
    "ExecuteTime": {
     "end_time": "2025-03-14T21:41:25.757250Z",
     "start_time": "2025-03-14T21:41:25.312703Z"
    }
   },
   "cell_type": "code",
   "source": [
    "# Map 'Score' to 'Sentiment'\n",
    "def score_to_sentiment(score):\n",
    "    if score in [4, 5]:\n",
    "        return 'Positive'\n",
    "    elif score in [1, 2]:\n",
    "        return 'Negative'\n",
    "    else:\n",
    "        return 'Neutral'\n",
    "\n",
    "data['Sentiment'] = data['Score'].apply(score_to_sentiment)\n",
    "\n",
    "# Exclude 'Neutral' reviews\n",
    "data = data[data['Sentiment'] != 'Neutral'].reset_index(drop=True)\n",
    "\n",
    "# Verify feature mapping\n",
    "print(\"Sentiment Distribution:\")\n",
    "print(data['Sentiment'].value_counts())"
   ],
   "id": "da7530cbe22f71d2",
   "outputs": [
    {
     "name": "stdout",
     "output_type": "stream",
     "text": [
      "Sentiment Distribution:\n",
      "Sentiment\n",
      "Positive    443777\n",
      "Negative     82037\n",
      "Name: count, dtype: int64\n"
     ]
    }
   ],
   "execution_count": 22
  },
  {
   "metadata": {},
   "cell_type": "markdown",
   "source": "Resampling To Address Class Imbalance - Now with the 'Sentiment' feature's possible values properly mapped to binary classes, the class imbalance is even more clear.",
   "id": "3c02b5ca2208d784"
  },
  {
   "metadata": {},
   "cell_type": "markdown",
   "source": "Before Remsampling, Data Is Split Into Training, Validation, and Test sets To Prevent Information Leakage Between Sets",
   "id": "1cc30a4d02629adc"
  },
  {
   "metadata": {
    "ExecuteTime": {
     "end_time": "2025-03-14T21:42:15.178490Z",
     "start_time": "2025-03-14T21:42:13.866575Z"
    }
   },
   "cell_type": "code",
   "source": [
    "# Separate features and labels\n",
    "x = data['Review_Text']\n",
    "y = data['Sentiment'].apply(lambda x: 1 if x == 'Positive' else 0)\n",
    "\n",
    "# Before resampling, split into training, validation, and test sets\n",
    "from sklearn.model_selection import train_test_split\n",
    "\n",
    "# Split dataset into training and temporary sets (80% train, 20% temp)\n",
    "X_train, X_temp, y_train, y_temp = train_test_split(\n",
    "    x, y, test_size=0.2, stratify=y, random_state=42\n",
    ")\n",
    "\n",
    "# Split the temporary set into validation and test sets (10% validation, 10% test)\n",
    "X_val, X_test, y_val, y_test = train_test_split(\n",
    "    X_temp, y_temp, test_size=0.5, stratify=y_temp, random_state=42\n",
    ")\n",
    "\n",
    "# Ensure there are no missing values after splits\n",
    "missing_values_X_train = X_train.isnull().sum()\n",
    "missing_values_X_val = X_val.isnull().sum()\n",
    "missing_values_X_test = X_test.isnull().sum()\n",
    "\n",
    "print(f\"Number of missing values in X_train: {missing_values_X_train}\")\n",
    "print(f\"Number of missing values in X_val: {missing_values_X_val}\")\n",
    "print(f\"Number of missing values in X_test: {missing_values_X_test}\\n\")\n",
    "\n",
    "# Check class distributions of dataset splits\n",
    "print(f\"Training Set Class Distribution:\\n{y_train.value_counts()}\\n\")\n",
    "print(f\"Validation Set Class Distribution:\\n{y_val.value_counts()}\\n\")\n",
    "print(f\"Test Set Class Distribution:\\n{y_test.value_counts()}\")"
   ],
   "id": "a7dc9184e9699b51",
   "outputs": [
    {
     "name": "stdout",
     "output_type": "stream",
     "text": [
      "Number of missing values in X_train: 0\n",
      "Number of missing values in X_val: 0\n",
      "Number of missing values in X_test: 0\n",
      "\n",
      "Training Set Class Distribution:\n",
      "Sentiment\n",
      "1    355021\n",
      "0     65630\n",
      "Name: count, dtype: int64\n",
      "\n",
      "Validation Set Class Distribution:\n",
      "Sentiment\n",
      "1    44378\n",
      "0     8203\n",
      "Name: count, dtype: int64\n",
      "\n",
      "Test Set Class Distribution:\n",
      "Sentiment\n",
      "1    44378\n",
      "0     8204\n",
      "Name: count, dtype: int64\n"
     ]
    }
   ],
   "execution_count": 23
  },
  {
   "metadata": {},
   "cell_type": "markdown",
   "source": "Applying Resampling to Training Data",
   "id": "72a75a5c6268fd7b"
  },
  {
   "metadata": {
    "ExecuteTime": {
     "end_time": "2025-03-14T21:43:55.671672Z",
     "start_time": "2025-03-14T21:43:53.681379Z"
    }
   },
   "cell_type": "code",
   "source": [
    "from imblearn.over_sampling import RandomOverSampler\n",
    "\n",
    "# Initializing the oversampler\n",
    "oversampler = RandomOverSampler(random_state=42)\n",
    "\n",
    "# Resampling the training data\n",
    "X_train_resampled, y_train_resampled = oversampler.fit_resample(\n",
    "    X_train.to_frame(), y_train\n",
    ")\n",
    "\n",
    "# Convert back to Series\n",
    "X_train_resampled = X_train_resampled['Review_Text']\n",
    "\n",
    "# Verify the new class distribution\n",
    "print(\"Resampled Training Set Class Distribution:\")\n",
    "print(y_train_resampled.value_counts())\n",
    "\n",
    "# Check for missing values\n",
    "print(\"\\nNumber of Missing Values for X_train_resampled:\", X_train_resampled.isnull().sum())\n",
    "print(\"Number of Missing Values for y_train_resampled:\", y_train_resampled.isnull().sum())"
   ],
   "id": "1a47bbfd36738a93",
   "outputs": [
    {
     "name": "stdout",
     "output_type": "stream",
     "text": [
      "Resampled Training Set Class Distribution:\n",
      "Sentiment\n",
      "0    355021\n",
      "1    355021\n",
      "Name: count, dtype: int64\n",
      "\n",
      "Number of Missing Values for X_train_resampled: 0\n",
      "Number of Missing Values for y_train_resampled: 0\n"
     ]
    }
   ],
   "execution_count": 24
  },
  {
   "metadata": {
    "ExecuteTime": {
     "end_time": "2025-03-14T21:44:06.941598Z",
     "start_time": "2025-03-14T21:44:06.660678Z"
    }
   },
   "cell_type": "code",
   "source": [
    "print(\"Data type of elements in X_train_resampled:\", X_train_resampled.apply(type).unique())\n",
    "X_train_resampled.info()"
   ],
   "id": "656f20fab5eb1216",
   "outputs": [
    {
     "name": "stdout",
     "output_type": "stream",
     "text": [
      "Data type of elements in X_train_resampled: [<class 'str'>]\n",
      "<class 'pandas.core.series.Series'>\n",
      "RangeIndex: 710042 entries, 0 to 710041\n",
      "Series name: Review_Text\n",
      "Non-Null Count   Dtype \n",
      "--------------   ----- \n",
      "710042 non-null  object\n",
      "dtypes: object(1)\n",
      "memory usage: 5.4+ MB\n"
     ]
    }
   ],
   "execution_count": 25
  },
  {
   "metadata": {},
   "cell_type": "markdown",
   "source": "Applying Text Cleaning",
   "id": "dbfbb84cdbc6bb36"
  },
  {
   "metadata": {
    "ExecuteTime": {
     "end_time": "2025-03-14T21:47:08.848595Z",
     "start_time": "2025-03-14T21:44:46.431494Z"
    }
   },
   "cell_type": "code",
   "source": [
    "from src.data_preprocessing import clean_text\n",
    "import nltk\n",
    "\n",
    "# Ensure NLTK resources are downloaded\n",
    "nltk.download('stopwords', quiet=True)\n",
    "nltk.download('wordnet', quiet=True)\n",
    "\n",
    "# Convert all entries to strings\n",
    "X_train_resampled = X_train_resampled.astype(str)\n",
    "X_val = X_val.astype(str)\n",
    "X_test = X_test.astype(str)\n",
    "\n",
    "\n",
    "# Apply text cleaning to the resampled training data\n",
    "X_train_cleaned = X_train_resampled.apply(clean_text)\n",
    "# Apply text cleaning to the validation data\n",
    "X_val_cleaned = X_val.apply(clean_text)\n",
    "# Apply text cleaning to the test data\n",
    "X_test_cleaned = X_test.apply(clean_text)\n",
    "\n",
    "print(\"Training and Test datasets successfully cleaned.\")"
   ],
   "id": "6ddab65b7b9c7484",
   "outputs": [
    {
     "name": "stdout",
     "output_type": "stream",
     "text": [
      "Training and Test datasets successfully cleaned.\n"
     ]
    }
   ],
   "execution_count": 26
  },
  {
   "metadata": {},
   "cell_type": "markdown",
   "source": "Saving Cleaned Data",
   "id": "31e125fedce81928"
  },
  {
   "metadata": {
    "ExecuteTime": {
     "end_time": "2025-03-14T21:49:12.631186Z",
     "start_time": "2025-03-14T21:49:06.355073Z"
    }
   },
   "cell_type": "code",
   "source": [
    "# Save cleaned and resampled training data\n",
    "train_data = pd.DataFrame({\n",
    "    'Review_Text': X_train_cleaned,\n",
    "    'Sentiment': y_train_resampled\n",
    "})\n",
    "train_data.to_csv('../data/processed/cleaned_train_data.csv', index=False)\n",
    "\n",
    "# Save Cleaned validation data\n",
    "val_data = pd.DataFrame({\n",
    "    'Review_Text': X_val_cleaned,\n",
    "    'Sentiment': y_val\n",
    "})\n",
    "val_data.to_csv('../data/processed/cleaned_val_data.csv', index=False)\n",
    "\n",
    "# Save Cleaned test data\n",
    "test_data = pd.DataFrame({\n",
    "    'Review_Text': X_test_cleaned,\n",
    "    'Sentiment': y_test\n",
    "})\n",
    "test_data.to_csv('../data/processed/cleaned_test_data.csv', index=False)\n",
    "\n",
    "print(\"Cleaned and resampled data saved.\")"
   ],
   "id": "c2397ff7d6fe502",
   "outputs": [
    {
     "name": "stdout",
     "output_type": "stream",
     "text": [
      "Cleaned and resampled data saved.\n"
     ]
    }
   ],
   "execution_count": 27
  },
  {
   "metadata": {},
   "cell_type": "markdown",
   "source": "",
   "id": "54cd0eb03f731e16"
  }
 ],
 "metadata": {
  "kernelspec": {
   "display_name": "Python 3",
   "language": "python",
   "name": "python3"
  },
  "language_info": {
   "codemirror_mode": {
    "name": "ipython",
    "version": 2
   },
   "file_extension": ".py",
   "mimetype": "text/x-python",
   "name": "python",
   "nbconvert_exporter": "python",
   "pygments_lexer": "ipython2",
   "version": "2.7.6"
  }
 },
 "nbformat": 4,
 "nbformat_minor": 5
}
