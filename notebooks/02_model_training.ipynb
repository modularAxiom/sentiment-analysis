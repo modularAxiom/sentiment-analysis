{
 "cells": [
  {
   "metadata": {},
   "cell_type": "markdown",
   "source": "Model Building and Training - Encode Training and Test Data",
   "id": "bec58e3057fc228e"
  },
  {
   "cell_type": "code",
   "id": "c331c8f98e4d7a10",
   "metadata": {},
   "source": [
    "import pandas as pd\n",
    "from src.feature_extraction import get_tokenizer, encode_texts\n",
    "\n",
    "# Load tokenizer\n",
    "tokenizer = get_tokenizer()\n",
    "\n",
    "# Retrieve cleaned training data\n",
    "train_data = pd.read_csv('../data/processed/cleaned_train_data.csv')\n",
    "X_train_cleaned = train_data['Combined_Text']\n",
    "X_train_cleaned = X_train_cleaned.astype('str')\n",
    "y_train_resampled = train_data['Sentiment']\n",
    "train_data.head()"
   ],
   "outputs": [],
   "execution_count": null
  },
  {
   "metadata": {},
   "cell_type": "code",
   "source": [
    "# Retrieve cleaned test data\n",
    "test_data = pd.read_csv('../data/processed/cleaned_test_data.csv')\n",
    "X_test_cleaned = test_data['Combined_Text']\n",
    "X_test_cleaned = X_test_cleaned.astype('str')\n",
    "y_test = test_data['Sentiment']\n",
    "test_data.head()"
   ],
   "id": "9b1079a38ab1a788",
   "outputs": [],
   "execution_count": null
  },
  {
   "metadata": {
    "collapsed": true
   },
   "cell_type": "code",
   "source": [
    "# Encode training data\n",
    "X_train_encoded = encode_texts(X_train_cleaned, tokenizer)\n",
    "\n",
    "# Encode test data\n",
    "X_test_encoded = encode_texts(X_test_cleaned, tokenizer)\n",
    "\n",
    "print(\"The training and test features have been successfully encoded.\")"
   ],
   "id": "initial_id",
   "outputs": [],
   "execution_count": null
  },
  {
   "metadata": {},
   "cell_type": "markdown",
   "source": "Prepare Data for Training",
   "id": "c109cffe3e1bf310"
  },
  {
   "metadata": {},
   "cell_type": "code",
   "source": [
    "import tensorflow as tf\n",
    "\n",
    "# Prepare labels for TensorFlow\n",
    "y_train_tf = y_train_resampled.values\n",
    "y_test_tf = y_test.values\n",
    "\n",
    "# Define batch size and epochs\n",
    "batch_size = 16\n",
    "epochs = 3\n",
    "\n",
    "# Create TensorFlow datasets for training and evaluation\n",
    "train_dataset = tf.data.Dataset.from_tensor_slices((\n",
    "    dict(X_train_encoded),\n",
    "    y_train_tf\n",
    ")).shuffle(len(y_train_tf)).batch(batch_size)\n",
    "\n",
    "validation_dataset = tf.data.Dataset.from_tensor_slices((\n",
    "    dict(X_test_encoded),\n",
    "    y_test_tf\n",
    ")).batch(batch_size)"
   ],
   "id": "dbcd7a3848887d9b",
   "outputs": [],
   "execution_count": null
  },
  {
   "metadata": {},
   "cell_type": "markdown",
   "source": "Training the Model",
   "id": "8a348b76d765bbcd"
  },
  {
   "metadata": {},
   "cell_type": "code",
   "source": [
    "from src.model_training import build_model\n",
    "\n",
    "# Build the model\n",
    "model = build_model()\n",
    "\n",
    "# Train the model\n",
    "history = model.fit(\n",
    "    train_dataset,\n",
    "    epochs=epochs,\n",
    "    validation_data=validation_dataset,\n",
    ")"
   ],
   "id": "174a52d5663ee978",
   "outputs": [],
   "execution_count": null
  },
  {
   "metadata": {},
   "cell_type": "markdown",
   "source": "Model Evaluation on Test Data",
   "id": "4e1149c2531621af"
  },
  {
   "metadata": {},
   "cell_type": "code",
   "source": [
    "# Evaluate the model on the test dataset\n",
    "test_loss, test_accuracy = model.evaluate(validation_dataset)\n",
    "\n",
    "print(f\"Test Loss: {test_loss}\")\n",
    "print(f\"Test Accuracy: {test_accuracy}\")"
   ],
   "id": "9b88e3a75b2f0bac",
   "outputs": [],
   "execution_count": null
  }
 ],
 "metadata": {
  "kernelspec": {
   "display_name": "Python 3",
   "language": "python",
   "name": "python3"
  },
  "language_info": {
   "codemirror_mode": {
    "name": "ipython",
    "version": 2
   },
   "file_extension": ".py",
   "mimetype": "text/x-python",
   "name": "python",
   "nbconvert_exporter": "python",
   "pygments_lexer": "ipython2",
   "version": "2.7.6"
  }
 },
 "nbformat": 4,
 "nbformat_minor": 5
}
